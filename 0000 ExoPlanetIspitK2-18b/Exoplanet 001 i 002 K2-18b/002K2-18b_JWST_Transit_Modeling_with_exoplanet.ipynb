{
 "cells": [
  {
   "cell_type": "markdown",
   "id": "cfaab146",
   "metadata": {},
   "source": [
    "# K2-18b JWST Transit Modeling using exoplanet"
   ]
  },
  {
   "cell_type": "markdown",
   "id": "b34a952e-ede3-4ab0-a6e2-f75c080f989f",
   "metadata": {},
   "source": [
    "# Modelovanje tranzita K2-18b pomoću JWST i exoplanet paketa\n",
    "Ovaj notebook koristi podatke sa Svemirskog teleskopa Džejms Veb (JWST) da bi modelovao svetlosnu krivu tranzita egzoplanete K2-18b. Analiza koristi pakete exoplanet i pymc za izvođenje Bayesove analize tranzitnog modela, sa ciljem da se procene ključni orbitialni i fizički parametri planete.\n",
    "\n",
    "📥 Ulazni podaci\n",
    "Svetlosna kriva u beloj svetlosti (white-light curve) za K2-18b, u ECSV (ASCII tabela) formatu.\n",
    "\n",
    "Podaci uključuju:\n",
    "\n",
    "Vremenske serije (MJD format),\n",
    "\n",
    "Normalizovane vrednosti fluksa, i\n",
    "\n",
    "greške merenja (šum).\n",
    "\n",
    "\n",
    "📊 Rezultati\n",
    "Period rotacije planete\n",
    "kao i grafik:\n",
    "K2-18b Transit Fit using exoplanet\n",
    "\n"
   ]
  },
  {
   "cell_type": "code",
   "execution_count": 1,
   "id": "c8ceff9f",
   "metadata": {},
   "outputs": [],
   "source": [
    "import numpy as np\n",
    "import matplotlib.pyplot as plt\n",
    "import arviz as az\n",
    "import pymc as pm\n",
    "import exoplanet as xo\n",
    "from astropy.table import Table"
   ]
  },
  {
   "cell_type": "code",
   "execution_count": 2,
   "id": "093a4bf1",
   "metadata": {},
   "outputs": [],
   "source": [
    "# Load white-light curve data from the ECSV file\n",
    "filename = \"jw02722-o002_t001_miri_p750l-slitlessprism_whtlt.ecsv\"\n",
    "tbl = Table.read(filename, format=\"ascii.ecsv\")\n",
    "time = tbl['MJD']\n",
    "flux = tbl['whitelight_flux']\n",
    "flux_err = np.ones_like(flux) * np.std(flux[:50])  # crude estimate if error column is missing\n",
    "\n",
    "# Normalize flux\n",
    "flux = flux / np.median(flux)\n",
    "\n",
    "# Shift time to reduce numerical errors\n",
    "time = time - np.median(time)"
   ]
  },
  {
   "cell_type": "code",
   "execution_count": 3,
   "id": "d780814f",
   "metadata": {},
   "outputs": [
    {
     "data": {
      "text/html": [
       "\n",
       "<style>\n",
       "    /* Turns off some styling */\n",
       "    progress {\n",
       "        /* gets rid of default border in Firefox and Opera. */\n",
       "        border: none;\n",
       "        /* Needs to be in here for Safari polyfill so background images work as expected. */\n",
       "        background-size: auto;\n",
       "    }\n",
       "    progress:not([value]), progress:not([value])::-webkit-progress-bar {\n",
       "        background: repeating-linear-gradient(45deg, #7e7e7e, #7e7e7e 10px, #5c5c5c 10px, #5c5c5c 20px);\n",
       "    }\n",
       "    .progress-bar-interrupted, .progress-bar-interrupted::-webkit-progress-bar {\n",
       "        background: #F44336;\n",
       "    }\n",
       "</style>\n"
      ],
      "text/plain": [
       "<IPython.core.display.HTML object>"
      ]
     },
     "metadata": {},
     "output_type": "display_data"
    },
    {
     "data": {
      "text/html": [
       "\n",
       "    <div>\n",
       "      <progress value='41' class='' max='41' style='width:300px; height:20px; vertical-align: middle;'></progress>\n",
       "      100.00% [41/41 00:00&lt;00:00 logp = 10,276, ||grad|| = 0.38431]\n",
       "    </div>\n",
       "    "
      ],
      "text/plain": [
       "<IPython.core.display.HTML object>"
      ]
     },
     "metadata": {},
     "output_type": "display_data"
    },
    {
     "name": "stdout",
     "output_type": "stream",
     "text": [
      "\n"
     ]
    },
    {
     "name": "stderr",
     "output_type": "stream",
     "text": [
      "C:\\Users\\Lenovo\\AppData\\Local\\Temp\\ipykernel_9344\\2214523189.py:23: FutureWarning: The `start` kwarg was renamed to `initvals` and can now do more. Please check the docstring.\n",
      "  trace = pm.sample(draws=1000, tune=1000, start=map_soln, chains=2, cores=2, target_accept=0.95, return_inferencedata=True)\n",
      "Auto-assigning NUTS sampler...\n",
      "Initializing NUTS using jitter+adapt_diag...\n",
      "Multiprocess sampling (2 chains in 2 jobs)\n",
      "NUTS: [mean, __u_q1, __u_q2, period, t0, ror, b, duration]\n"
     ]
    },
    {
     "data": {
      "text/html": [
       "\n",
       "<style>\n",
       "    /* Turns off some styling */\n",
       "    progress {\n",
       "        /* gets rid of default border in Firefox and Opera. */\n",
       "        border: none;\n",
       "        /* Needs to be in here for Safari polyfill so background images work as expected. */\n",
       "        background-size: auto;\n",
       "    }\n",
       "    progress:not([value]), progress:not([value])::-webkit-progress-bar {\n",
       "        background: repeating-linear-gradient(45deg, #7e7e7e, #7e7e7e 10px, #5c5c5c 10px, #5c5c5c 20px);\n",
       "    }\n",
       "    .progress-bar-interrupted, .progress-bar-interrupted::-webkit-progress-bar {\n",
       "        background: #F44336;\n",
       "    }\n",
       "</style>\n"
      ],
      "text/plain": [
       "<IPython.core.display.HTML object>"
      ]
     },
     "metadata": {},
     "output_type": "display_data"
    },
    {
     "data": {
      "text/html": [
       "\n",
       "    <div>\n",
       "      <progress value='4000' class='' max='4000' style='width:300px; height:20px; vertical-align: middle;'></progress>\n",
       "      100.00% [4000/4000 14:23&lt;00:00 Sampling 2 chains, 0 divergences]\n",
       "    </div>\n",
       "    "
      ],
      "text/plain": [
       "<IPython.core.display.HTML object>"
      ]
     },
     "metadata": {},
     "output_type": "display_data"
    },
    {
     "name": "stderr",
     "output_type": "stream",
     "text": [
      "Sampling 2 chains for 1_000 tune and 1_000 draw iterations (2_000 + 2_000 draws total) took 878 seconds.\n",
      "We recommend running at least 4 chains for robust computation of convergence diagnostics\n",
      "The rhat statistic is larger than 1.01 for some parameters. This indicates problems during sampling. See https://arxiv.org/abs/1903.08008 for details\n",
      "The effective sample size per chain is smaller than 100 for some parameters.  A higher number is needed for reliable rhat and ess computation. See https://arxiv.org/abs/1903.08008 for details\n"
     ]
    }
   ],
   "source": [
    "# Start PyMC model\n",
    "with pm.Model() as model:\n",
    "    # Stellar parameters\n",
    "    mean = pm.Normal(\"mean\", mu=1.0, sigma=0.1)\n",
    "    u = xo.distributions.QuadLimbDark(\"u\")\n",
    "\n",
    "    # Orbital parameters\n",
    "    period = pm.Normal(\"period\", mu=33.0, sigma=5.0)  # rough guess\n",
    "    t0 = pm.Normal(\"t0\", mu=0.0, sigma=1.0)\n",
    "    ror = pm.Uniform(\"ror\", lower=0.01, upper=0.5)  # Rp/Rs\n",
    "    b = pm.Uniform(\"b\", lower=0, upper=1)\n",
    "    duration = pm.Normal(\"duration\", mu=0.2, sigma=0.05)\n",
    "\n",
    "    # Orbit and light curve model\n",
    "    orbit = xo.orbits.KeplerianOrbit(period=period, t0=t0, b=b)\n",
    "    light_curve = xo.LimbDarkLightCurve(u).get_light_curve(orbit=orbit, r=ror, t=time).flatten()\n",
    "\n",
    "    # Likelihood\n",
    "    pm.Normal(\"obs\", mu=mean * (1 + light_curve), sigma=flux_err, observed=flux)\n",
    "\n",
    "    # Sampling\n",
    "    map_soln = pm.find_MAP()\n",
    "    trace = pm.sample(draws=1000, tune=1000, start=map_soln, chains=2, cores=2, target_accept=0.95, return_inferencedata=True)"
   ]
  },
  {
   "cell_type": "code",
   "execution_count": 4,
   "id": "d487ec8f",
   "metadata": {},
   "outputs": [
    {
     "name": "stdout",
     "output_type": "stream",
     "text": [
      "          mean     sd  hdi_3%  hdi_97%  mcse_mean  mcse_sd  ess_bulk  \\\n",
      "period  32.946  5.000  23.373   41.591      0.143    0.101    1236.0   \n",
      "t0       0.129  1.092  -1.925    1.941      0.122    0.087      93.0   \n",
      "ror      0.247  0.140   0.012    0.470      0.004    0.003    1190.0   \n",
      "b        0.500  0.295   0.000    0.946      0.009    0.006    1165.0   \n",
      "\n",
      "        ess_tail  r_hat  \n",
      "period    1336.0   1.00  \n",
      "t0         606.0   1.01  \n",
      "ror        789.0   1.00  \n",
      "b          734.0   1.00  \n"
     ]
    }
   ],
   "source": [
    "# Summary\n",
    "print(az.summary(trace, var_names=[\"period\", \"t0\", \"ror\", \"b\"]))"
   ]
  },
  {
   "cell_type": "code",
   "execution_count": 5,
   "id": "cb074756",
   "metadata": {},
   "outputs": [
    {
     "name": "stderr",
     "output_type": "stream",
     "text": [
      "Sampling: [obs]\n"
     ]
    },
    {
     "data": {
      "text/html": [
       "\n",
       "<style>\n",
       "    /* Turns off some styling */\n",
       "    progress {\n",
       "        /* gets rid of default border in Firefox and Opera. */\n",
       "        border: none;\n",
       "        /* Needs to be in here for Safari polyfill so background images work as expected. */\n",
       "        background-size: auto;\n",
       "    }\n",
       "    progress:not([value]), progress:not([value])::-webkit-progress-bar {\n",
       "        background: repeating-linear-gradient(45deg, #7e7e7e, #7e7e7e 10px, #5c5c5c 10px, #5c5c5c 20px);\n",
       "    }\n",
       "    .progress-bar-interrupted, .progress-bar-interrupted::-webkit-progress-bar {\n",
       "        background: #F44336;\n",
       "    }\n",
       "</style>\n"
      ],
      "text/plain": [
       "<IPython.core.display.HTML object>"
      ]
     },
     "metadata": {},
     "output_type": "display_data"
    },
    {
     "data": {
      "text/html": [
       "\n",
       "    <div>\n",
       "      <progress value='2000' class='' max='2000' style='width:300px; height:20px; vertical-align: middle;'></progress>\n",
       "      100.00% [2000/2000 00:01&lt;00:00]\n",
       "    </div>\n",
       "    "
      ],
      "text/plain": [
       "<IPython.core.display.HTML object>"
      ]
     },
     "metadata": {},
     "output_type": "display_data"
    },
    {
     "data": {
      "image/png": "[encoded data removed]",
      "text/plain": [
       "<Figure size 1000x400 with 1 Axes>"
      ]
     },
     "metadata": {},
     "output_type": "display_data"
    }
   ],
   "source": [
    "# Plot the fit\n",
    "with model:\n",
    "    pred = pm.sample_posterior_predictive(trace, var_names=[\"obs\"])\n",
    "\n",
    "plt.figure(figsize=(10, 4))\n",
    "plt.plot(time, flux, \".k\", label=\"data\")\n",
    "plt.plot(time, np.median(pred.posterior_predictive[\"obs\"], axis=(0, 1)), label=\"model\")\n",
    "plt.xlabel(\"Time [days from median MJD]\")\n",
    "plt.ylabel(\"Normalized Flux\")\n",
    "plt.legend()\n",
    "plt.grid(True)\n",
    "plt.title(\"K2-18b Transit Fit using exoplanet\")\n",
    "plt.show()"
   ]
  },
  {
   "cell_type": "code",
   "execution_count": null,
   "id": "6dfe2dbd-3b6a-4e98-b314-71f7eb68f0a4",
   "metadata": {},
   "outputs": [],
   "source": []
  }
 ],
 "metadata": {
  "kernelspec": {
   "display_name": "Python 3.10 (Exoplanet)",
   "language": "python",
   "name": "py310-env"
  },
  "language_info": {
   "codemirror_mode": {
    "name": "ipython",
    "version": 3
   },
   "file_extension": ".py",
   "mimetype": "text/x-python",
   "name": "python",
   "nbconvert_exporter": "python",
   "pygments_lexer": "ipython3",
   "version": "3.9.23"
  }
 },
 "nbformat": 4,
 "nbformat_minor": 5
}
