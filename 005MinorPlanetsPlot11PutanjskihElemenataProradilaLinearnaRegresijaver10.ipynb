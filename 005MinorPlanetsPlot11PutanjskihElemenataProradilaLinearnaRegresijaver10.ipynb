{
 "cells": [
  {
   "cell_type": "markdown",
   "metadata": {},
   "source": [
    "\n",
    "<br>\n",
    "postupak koji generiÅ¡e fajl za primer<br>\n",
    "1. <br>\n",
    "https://minorplanetcenter.net/db_search/<br>\n",
    "primer sadrÅ¾i objekte<br>\n",
    "upit na sajtu<br>\n",
    "6  Mean Anomaly             -PEM           -degree<br>\n",
    "2.5 do 2.53<br>\n",
    "sa sajta, posle upita, prebaciti u Excel<br>\n",
    "pa posle iz Excela u CSV (DOS)<br>\n",
    "file name :<br>\n",
    "190 objekata mean anomaly 2.5 do 2.53.csv<br>\n"
   ]
  },
  {
   "cell_type": "code",
   "execution_count": 3,
   "metadata": {},
   "outputs": [],
   "source": [
    "MylistOfSB = []"
   ]
  },
  {
   "cell_type": "markdown",
   "metadata": {},
   "source": [
    "############## klasa za putanjske elemente malog tela"
   ]
  },
  {
   "cell_type": "markdown",
   "metadata": {},
   "source": [
    "\n",
    "<br>\n",
    "putanjski elementi PE<br>\n",
    "1  Semimajor Axis           -PEa           -AU<br>\n",
    "2  Eccentricity             -PEe           -<br>\n",
    "3  Inclination              -PEi           -degree<br>\n",
    "4  Argument of Perihelion   -PEmaloomega   -degree<br>\n",
    "5  Ascending Node           -PEvelikoOmega -degree<br>\n",
    "6  Mean Anomaly             -PEM           -degree<br>\n",
    "7  Mean Daily Motion        -PEn           -degree/day   <br>\n",
    "8  Perihelion Distance      -PEq           -AU<br>\n",
    "9  Aphelion Distance        -PEQ           -AU<br>\n",
    "10 Period                   -PEP           -years<br>\n",
    "11 Absolute magnitude       -PEH           -mag<br>\n",
    "PEa, PEe, PEi, PEmaloomega, PEvelikoOmega, PEM, PEn, PEq, PEQ, PEP, PEH<br>\n"
   ]
  },
  {
   "cell_type": "markdown",
   "metadata": {},
   "source": [
    "# PEa, PEe, PEi, PEmaloomega, PEvelikoOmega, PEM, PEn, PEq, PEQ, PEP, PEH"
   ]
  },
  {
   "cell_type": "code",
   "execution_count": 7,
   "metadata": {},
   "outputs": [],
   "source": [
    "class SmallBody:\n",
    "  def __init__(self, Name, PEa, PEe, PEi, PEmaloomega, PEvelikoOmega, PEM, PEn, PEq, PEQ, PEP, PEH):\n",
    "      \n",
    "      \n",
    "    self.Name=Name\n",
    "    self.PEa=PEa\n",
    "    self.PEe=PEe \n",
    "    self.PEi=PEi\n",
    "    self.PEmaloomega= PEmaloomega\n",
    "    self.PEvelikoOmega=PEvelikoOmega\n",
    "    self.PEM=PEM\n",
    "    self.PEn=PEn \n",
    "    self.PEq=PEq\n",
    "    self.PEQ=PEQ\n",
    "    self.PEP=PEP\n",
    "    self.PEH=PEH\n",
    "    \n",
    "    \n",
    "  def SBPrint(self):\n",
    "      print (str(self.PEa) +\" \"+ str(self.PEe) +\" \"+  str(self.PEi) +\" \"+  str(self.PEmaloomega) +\" \"+  \n",
    "             str(self.PEvelikoOmega) +\" \"+str(self.PEM) +\" \"+str(self.PEn) +\" \"+  \n",
    "             str(self.PEq) +\" \"+  str(self.PEQ) +\" \"+  str(self.PEP) +\" \"+  str(self.PEH))\n",
    "  \n",
    "      \n",
    "  def SBPrintName(self):\n",
    "      print (self.Name)\n",
    "      \n",
    "      \n",
    "mySmallBody = SmallBody(\"test1\",0,0,0,0,0,0,0,0,0,0,0)"
   ]
  },
  {
   "cell_type": "markdown",
   "metadata": {},
   "source": [
    "##mySmallBodTest = SmallBody(\"test2\",10,0.2,4,5,44,53,0.2,3.1,3.4,5.6,10.2)<br>\n",
    "##mySmallBodTest.SBPrint()"
   ]
  },
  {
   "cell_type": "code",
   "execution_count": 9,
   "metadata": {},
   "outputs": [],
   "source": [
    "mySmallBodyTemp = SmallBody(\"test3\",0,0,0,0,0,0,0,0,0,0,0)"
   ]
  },
  {
   "cell_type": "code",
   "execution_count": 10,
   "metadata": {},
   "outputs": [],
   "source": [
    "import csv"
   ]
  },
  {
   "cell_type": "markdown",
   "metadata": {},
   "source": [
    "Define a class to hold the string and 11 numbers"
   ]
  },
  {
   "cell_type": "code",
   "execution_count": 12,
   "metadata": {},
   "outputs": [],
   "source": [
    "class DataRow:\n",
    "    def __init__(self, label: str, numbers: list):\n",
    "        self.label = label    # A string label\n",
    "        self.numbers = numbers  # A list of 11 numbers\n",
    "    \n",
    "    def __repr__(self):\n",
    "        return f\"DataRow(label={self.label}, numbers={self.numbers})\""
   ]
  },
  {
   "cell_type": "markdown",
   "metadata": {},
   "source": [
    "Function to read CSV and load data into instances of DataRow"
   ]
  },
  {
   "cell_type": "code",
   "execution_count": 14,
   "metadata": {},
   "outputs": [],
   "source": [
    "def load_data_from_csv(file_path):\n",
    "    data_rows = []\n",
    "    \n",
    "    with open(file_path, mode='r') as file:\n",
    "        csv_reader = csv.reader(file)\n",
    "        \n",
    "        # Process each line in the CSV file\n",
    "        for line_num, row in enumerate(csv_reader, start=1):\n",
    "            if len(row) < 12:\n",
    "                print(f\"Line {line_num} does not contain a label and 11 numbers: {row}\")\n",
    "                continue\n",
    "            \n",
    "            try:\n",
    "                # First item is the label (string), the rest should be numbers\n",
    "                label = row[0]\n",
    "                numbers = [float(item) for item in row[1:]]\n",
    "                mySmallBodyTemp.Name=row[0]\n",
    "                mySmallBodyTemp.PEa=row[1]\n",
    "                mySmallBodyTemp.PEe=row[2]\n",
    "                mySmallBodyTemp.PEi=row[3]\n",
    "                mySmallBodyTemp.PEmaloomega=row[4]\n",
    "                mySmallBodyTemp.PEvelikoOmega=row[5]\n",
    "                mySmallBodyTemp.PEM=row[6]\n",
    "                mySmallBodyTemp.PEn=row[7]\n",
    "                mySmallBodyTemp.PEq=row[8]\n",
    "                mySmallBodyTemp.PEQ=row[9]\n",
    "                mySmallBodyTemp.PEP=row[10]\n",
    "                mySmallBodyTemp.PEH=row[11]\n",
    "                ####mySmallBodyTemp.SBPrintName()\n",
    "                ####mySmallBodyTemp.SBPrint()\n",
    "                MylistOfSB.append(SmallBody(row[0],row[1],row[2],row[3],row[4],row[5],row[6],row[7],row[8],\n",
    "                                      row[9],row[10],row[11]))\n",
    "                # Check that there are exactly 11 numbers\n",
    "                if len(numbers) == 11:\n",
    "                    data_rows.append(DataRow(label, numbers))\n",
    "                else:\n",
    "                    print(f\"Line {line_num} does not contain exactly 11 numbers: {row}\")\n",
    "            except ValueError:\n",
    "                print(f\"Line {line_num} contains non-numeric values in the numbers section: {row}\")    \n",
    "    return data_rows"
   ]
  },
  {
   "cell_type": "markdown",
   "metadata": {},
   "source": [
    "## old  file_path = '198 objekata au 2.5 do 2.505 ...  main belt .csv'"
   ]
  },
  {
   "cell_type": "code",
   "execution_count": 16,
   "metadata": {},
   "outputs": [],
   "source": [
    "file_path = '190 objekata mean anomaly 2.5 do 2.53.csv'"
   ]
  },
  {
   "cell_type": "code",
   "execution_count": 17,
   "metadata": {},
   "outputs": [],
   "source": [
    "data = load_data_from_csv(file_path)\n",
    "#### print(data)"
   ]
  },
  {
   "cell_type": "markdown",
   "metadata": {},
   "source": [
    "#### Å¡tampanje imena prvog tela<br>\n",
    "##print (MylistOfSB[1].SBPrintName())"
   ]
  },
  {
   "cell_type": "markdown",
   "metadata": {},
   "source": [
    "\n",
    "<br>\n",
    "imamo napunjenu listu iz CVS fajla<br>\n"
   ]
  },
  {
   "cell_type": "code",
   "execution_count": null,
   "metadata": {},
   "outputs": [],
   "source": [
    " "
   ]
  },
  {
   "cell_type": "markdown",
   "metadata": {},
   "source": [
    "##   mySmallBodyTemp.PEa=row[1] 1  Semimajor Axis           -PEa        -AU"
   ]
  },
  {
   "cell_type": "code",
   "execution_count": 21,
   "metadata": {
    "scrolled": true
   },
   "outputs": [],
   "source": [
    "import matplotlib.pyplot as plt\n",
    "import numpy as np\n",
    "ys = [obj.PEa for obj in MylistOfSB]\n",
    "res = [float(ele) for ele in ys]"
   ]
  },
  {
   "cell_type": "code",
   "execution_count": 22,
   "metadata": {},
   "outputs": [
    {
     "data": {
      "text/plain": [
       "Text(0, 0.5, 'PEa Value')"
      ]
     },
     "execution_count": 22,
     "metadata": {},
     "output_type": "execute_result"
    },
    {
     "data": {
      "image/png": "[encoded data removed]",
      "text/plain": [
       "<Figure size 640x480 with 1 Axes>"
      ]
     },
     "metadata": {},
     "output_type": "display_data"
    }
   ],
   "source": [
    "plt.title(\"Semimajor Axis\")\n",
    "plt.xlabel(\"Index of Object\")\n",
    "plt.ylabel(\"PEa Value\")"
   ]
  },
  {
   "cell_type": "code",
   "execution_count": 23,
   "metadata": {},
   "outputs": [
    {
     "name": "stdout",
     "output_type": "stream",
     "text": [
      " \n",
      "0.6\n",
      "358.5\n"
     ]
    },
    {
     "ename": "NameError",
     "evalue": "name 'plt101' is not defined",
     "output_type": "error",
     "traceback": [
      "\u001b[1;31m---------------------------------------------------------------------------\u001b[0m",
      "\u001b[1;31mNameError\u001b[0m                                 Traceback (most recent call last)",
      "Cell \u001b[1;32mIn[23], line 6\u001b[0m\n\u001b[0;32m      4\u001b[0m \u001b[38;5;28mprint\u001b[39m(min_pea)\n\u001b[0;32m      5\u001b[0m \u001b[38;5;28mprint\u001b[39m(max_pea)\n\u001b[1;32m----> 6\u001b[0m plt101\u001b[38;5;241m.\u001b[39mylim(min_pea, max_pea)\n\u001b[0;32m      7\u001b[0m plt101\u001b[38;5;241m.\u001b[39mgrid(\u001b[38;5;28;01mTrue\u001b[39;00m)\n\u001b[0;32m      8\u001b[0m yticks \u001b[38;5;241m=\u001b[39m np101\u001b[38;5;241m.\u001b[39mlinspace(\u001b[38;5;28mfloat\u001b[39m(min_pea), \u001b[38;5;28mfloat\u001b[39m(max_pea), \u001b[38;5;241m3\u001b[39m)\n",
      "\u001b[1;31mNameError\u001b[0m: name 'plt101' is not defined"
     ]
    }
   ],
   "source": [
    "min_pea=min(res)\n",
    "max_pea=max(res)\n",
    "print(\" \")\n",
    "print(min_pea)\n",
    "print(max_pea)\n",
    "plt101.ylim(min_pea, max_pea)\n",
    "plt101.grid(True)\n",
    "yticks = np101.linspace(float(min_pea), float(max_pea), 3)\n",
    "plt101.yticks(yticks)\n",
    "plt101.plot(res, color='r')\n",
    "plt101.show()"
   ]
  },
  {
   "cell_type": "markdown",
   "metadata": {},
   "source": [
    "##   mySmallBodyTemp.PEa=row[1] 2  Eccentricity             -PEe           -"
   ]
  },
  {
   "cell_type": "code",
   "execution_count": null,
   "metadata": {},
   "outputs": [],
   "source": [
    "import matplotlib.pyplot as plt102\n",
    "import numpy as np102\n",
    "ys = [obj.PEe for obj in MylistOfSB]\n",
    "res = [float(ele) for ele in ys]"
   ]
  },
  {
   "cell_type": "code",
   "execution_count": null,
   "metadata": {},
   "outputs": [],
   "source": [
    "plt102.title(\"Eccentricity\")\n",
    "plt102.xlabel(\"Index of Object\")\n",
    "plt102.ylabel(\"PEe Value\")"
   ]
  },
  {
   "cell_type": "code",
   "execution_count": null,
   "metadata": {},
   "outputs": [],
   "source": [
    "min_pea=min(res)\n",
    "max_pea=max(res)\n",
    "print(\" \")\n",
    "print(min_pea)\n",
    "print(max_pea)\n",
    "plt102.ylim(min_pea, max_pea)\n",
    "plt102.grid(True)\n",
    "yticks = np102.linspace(float(min_pea), float(max_pea), 3)\n",
    "plt102.yticks(yticks)\n",
    "plt102.plot(res, color='g')\n",
    "plt102.show()"
   ]
  },
  {
   "cell_type": "markdown",
   "metadata": {},
   "source": [
    "##   3  Inclination              -PEi           -degree"
   ]
  },
  {
   "cell_type": "code",
   "execution_count": null,
   "metadata": {},
   "outputs": [],
   "source": [
    "import matplotlib.pyplot as plt103\n",
    "import numpy as np103\n",
    "ys = [obj.PEi for obj in MylistOfSB]\n",
    "res = [float(ele) for ele in ys]"
   ]
  },
  {
   "cell_type": "code",
   "execution_count": null,
   "metadata": {},
   "outputs": [],
   "source": [
    "plt102.title(\"Inclination\")\n",
    "plt102.xlabel(\"Index of Object\")\n",
    "plt102.ylabel(\"PEi Value\")"
   ]
  },
  {
   "cell_type": "code",
   "execution_count": null,
   "metadata": {},
   "outputs": [],
   "source": [
    "min_pea=min(res)\n",
    "max_pea=max(res)\n",
    "print(\" \")\n",
    "print(min_pea)\n",
    "print(max_pea)\n",
    "plt103.ylim(min_pea, max_pea)\n",
    "plt103.grid(True)\n",
    "yticks = np103.linspace(float(min_pea), float(max_pea), 3)\n",
    "plt103.yticks(yticks)\n",
    "plt103.plot(res, color='b')\n",
    "plt103.show()"
   ]
  },
  {
   "cell_type": "markdown",
   "metadata": {},
   "source": [
    "##   4  Argument of Perihelion   -PEmaloomega   -degree"
   ]
  },
  {
   "cell_type": "code",
   "execution_count": null,
   "metadata": {},
   "outputs": [],
   "source": [
    "import matplotlib.pyplot as plt104\n",
    "import numpy as np104\n",
    "ys = [obj.PEmaloomega for obj in MylistOfSB]\n",
    "res = [float(ele) for ele in ys]"
   ]
  },
  {
   "cell_type": "code",
   "execution_count": null,
   "metadata": {},
   "outputs": [],
   "source": [
    "plt104.title(\"Argument of Perihelion\")\n",
    "plt104.xlabel(\"Index of Object\")\n",
    "plt104.ylabel(\"PEmaloomega Value\")"
   ]
  },
  {
   "cell_type": "code",
   "execution_count": null,
   "metadata": {},
   "outputs": [],
   "source": [
    "min_pea=min(res)\n",
    "max_pea=max(res)\n",
    "print(\" \")\n",
    "print(min_pea)\n",
    "print(max_pea)\n",
    "plt104.ylim(min_pea, max_pea)\n",
    "plt104.grid(True)\n",
    "yticks = np104.linspace(float(min_pea), float(max_pea), 3)\n",
    "plt104.yticks(yticks)\n",
    "plt104.plot(res, color='r')\n",
    "plt104.show()"
   ]
  },
  {
   "cell_type": "markdown",
   "metadata": {},
   "source": [
    "### 5  Ascending Node           -PEvelikoOmega -degree"
   ]
  },
  {
   "cell_type": "code",
   "execution_count": null,
   "metadata": {},
   "outputs": [],
   "source": [
    "import matplotlib.pyplot as plt105\n",
    "import numpy as np105\n",
    "ys = [obj.PEmaloomega for obj in MylistOfSB]\n",
    "res = [float(ele) for ele in ys]"
   ]
  },
  {
   "cell_type": "code",
   "execution_count": null,
   "metadata": {},
   "outputs": [],
   "source": [
    "plt105.title(\"Ascending Node\")\n",
    "plt105.xlabel(\"Index of Object\")\n",
    "plt105.ylabel(\"PEvelikoOmega Value\")"
   ]
  },
  {
   "cell_type": "code",
   "execution_count": null,
   "metadata": {},
   "outputs": [],
   "source": [
    "min_pea=min(res)\n",
    "max_pea=max(res)\n",
    "print(\" \")\n",
    "print(min_pea)\n",
    "print(max_pea)\n",
    "plt105.ylim(min_pea, max_pea)\n",
    "plt105.grid(True)\n",
    "yticks = np105.linspace(float(min_pea), float(max_pea), 3)\n",
    "plt105.yticks(yticks)\n",
    "plt105.plot(res, color='g')\n",
    "plt105.show()"
   ]
  },
  {
   "cell_type": "markdown",
   "metadata": {},
   "source": [
    "### 6  Mean Anomaly             -PEM           -degree"
   ]
  },
  {
   "cell_type": "code",
   "execution_count": null,
   "metadata": {},
   "outputs": [],
   "source": [
    "import matplotlib.pyplot as plt106\n",
    "import numpy as np106\n",
    "ys = [obj.PEM for obj in MylistOfSB]\n",
    "res = [float(ele) for ele in ys]"
   ]
  },
  {
   "cell_type": "code",
   "execution_count": null,
   "metadata": {},
   "outputs": [],
   "source": [
    "plt106.title(\"Mean Anomaly\")\n",
    "plt106.xlabel(\"Index of Object\")\n",
    "plt106.ylabel(\"PEM Value\")"
   ]
  },
  {
   "cell_type": "code",
   "execution_count": null,
   "metadata": {},
   "outputs": [],
   "source": [
    "min_pea=min(res)\n",
    "max_pea=max(res)\n",
    "print(\" \")\n",
    "print(min_pea)\n",
    "print(max_pea)\n",
    "plt106.ylim(min_pea, max_pea)\n",
    "plt106.grid(True)\n",
    "yticks = np106.linspace(float(min_pea), float(max_pea), 3)\n",
    "plt106.yticks(yticks)\n",
    "plt106.plot(res, color='b')\n",
    "plt106.show()"
   ]
  },
  {
   "cell_type": "markdown",
   "metadata": {},
   "source": [
    "##7  Mean Daily Motion        -PEn           -degree/day   "
   ]
  },
  {
   "cell_type": "code",
   "execution_count": null,
   "metadata": {},
   "outputs": [],
   "source": [
    "import matplotlib.pyplot as plt107\n",
    "import numpy as np107\n",
    "ys = [obj.PEn for obj in MylistOfSB]\n",
    "res = [float(ele) for ele in ys]"
   ]
  },
  {
   "cell_type": "code",
   "execution_count": null,
   "metadata": {},
   "outputs": [],
   "source": [
    "plt107.title(\"Mean Daily Motion\")\n",
    "plt107.xlabel(\"Index of Object\")\n",
    "plt107.ylabel(\"PEn Value\")"
   ]
  },
  {
   "cell_type": "code",
   "execution_count": null,
   "metadata": {},
   "outputs": [],
   "source": [
    "min_pea=min(res)\n",
    "max_pea=max(res)\n",
    "print(\" \")\n",
    "print(min_pea)\n",
    "print(max_pea)\n",
    "plt107.ylim(min_pea, max_pea)\n",
    "plt107.grid(True)\n",
    "yticks = np107.linspace(float(min_pea), float(max_pea), 3)\n",
    "plt107.yticks(yticks)\n",
    "plt107.plot(res, color='r')\n",
    "plt107.show()"
   ]
  },
  {
   "cell_type": "markdown",
   "metadata": {},
   "source": [
    "###8  Perihelion Distance      -PEq           -AU"
   ]
  },
  {
   "cell_type": "code",
   "execution_count": null,
   "metadata": {},
   "outputs": [],
   "source": [
    "import matplotlib.pyplot as plt108\n",
    "import numpy as np108\n",
    "ys = [obj.PEq for obj in MylistOfSB]\n",
    "res = [float(ele) for ele in ys]"
   ]
  },
  {
   "cell_type": "code",
   "execution_count": null,
   "metadata": {},
   "outputs": [],
   "source": [
    "plt108.title(\"Perihelion Distance\")\n",
    "plt108.xlabel(\"Index of Object\")\n",
    "plt108.ylabel(\"PEq Value\")"
   ]
  },
  {
   "cell_type": "code",
   "execution_count": null,
   "metadata": {},
   "outputs": [],
   "source": [
    "min_pea=min(res)\n",
    "max_pea=max(res)\n",
    "print(\" \")\n",
    "print(min_pea)\n",
    "print(max_pea)\n",
    "plt108.ylim(min_pea, max_pea)\n",
    "plt108.grid(True)\n",
    "yticks = np108.linspace(float(min_pea), float(max_pea), 3)\n",
    "plt108.yticks(yticks)\n",
    "plt108.plot(res, color='g')\n",
    "plt108.show()"
   ]
  },
  {
   "cell_type": "markdown",
   "metadata": {},
   "source": [
    "#### 9  Aphelion Distance        -PEQ           -AU"
   ]
  },
  {
   "cell_type": "code",
   "execution_count": null,
   "metadata": {},
   "outputs": [],
   "source": [
    "import matplotlib.pyplot as plt109\n",
    "import numpy as np109\n",
    "ys = [obj.PEQ for obj in MylistOfSB]\n",
    "res = [float(ele) for ele in ys]"
   ]
  },
  {
   "cell_type": "code",
   "execution_count": null,
   "metadata": {},
   "outputs": [],
   "source": [
    "plt109.title(\"Aphelion Distance\")\n",
    "plt109.xlabel(\"Index of Object\")\n",
    "plt109.ylabel(\"PEQ Value\")"
   ]
  },
  {
   "cell_type": "code",
   "execution_count": null,
   "metadata": {},
   "outputs": [],
   "source": [
    "min_pea=min(res)\n",
    "max_pea=max(res)\n",
    "print(\" \")\n",
    "print(min_pea)\n",
    "print(max_pea)\n",
    "plt109.ylim(min_pea, max_pea)\n",
    "plt109.grid(True)\n",
    "yticks = np109.linspace(float(min_pea), float(max_pea), 3)\n",
    "plt109.yticks(yticks)\n",
    "plt109.plot(res, color='b')\n",
    "plt109.show()"
   ]
  },
  {
   "cell_type": "markdown",
   "metadata": {},
   "source": [
    "### 10 Period                   -PEP           -years"
   ]
  },
  {
   "cell_type": "code",
   "execution_count": null,
   "metadata": {},
   "outputs": [],
   "source": [
    "import matplotlib.pyplot as plt110\n",
    "import numpy as np110\n",
    "ys = [obj.PEP for obj in MylistOfSB]\n",
    "res = [float(ele) for ele in ys]"
   ]
  },
  {
   "cell_type": "code",
   "execution_count": null,
   "metadata": {},
   "outputs": [],
   "source": [
    "plt110.title(\"Period\")\n",
    "plt110.xlabel(\"Index of Object\")\n",
    "plt110.ylabel(\"PEP Value\")"
   ]
  },
  {
   "cell_type": "code",
   "execution_count": null,
   "metadata": {},
   "outputs": [],
   "source": [
    "min_pea=min(res)\n",
    "max_pea=max(res)\n",
    "print(\" \")\n",
    "print(min_pea)\n",
    "print(max_pea)\n",
    "plt110.ylim(min_pea, max_pea)\n",
    "plt110.grid(True)\n",
    "yticks = np110.linspace(float(min_pea), float(max_pea), 3)\n",
    "plt110.yticks(yticks)\n",
    "plt110.plot(res, color='r')\n",
    "plt110.show()"
   ]
  },
  {
   "cell_type": "markdown",
   "metadata": {},
   "source": [
    "### 11 Absolute magnitude       -PEH           -mag"
   ]
  },
  {
   "cell_type": "code",
   "execution_count": null,
   "metadata": {},
   "outputs": [],
   "source": [
    "import matplotlib.pyplot as plt111\n",
    "import numpy as np111\n",
    "ys = [obj.PEH for obj in MylistOfSB]\n",
    "res = [float(ele) for ele in ys]"
   ]
  },
  {
   "cell_type": "code",
   "execution_count": null,
   "metadata": {},
   "outputs": [],
   "source": [
    "plt111.title(\"Absolute magnitude\")\n",
    "plt111.xlabel(\"Index of Object\")\n",
    "plt111.ylabel(\"PEH Value\")"
   ]
  },
  {
   "cell_type": "code",
   "execution_count": null,
   "metadata": {},
   "outputs": [],
   "source": [
    "min_pea=min(res)\n",
    "max_pea=max(res)\n",
    "print(\" \")\n",
    "print(min_pea)\n",
    "print(max_pea)\n",
    "plt111.ylim(min_pea, max_pea)\n",
    "plt111.grid(True)\n",
    "yticks = np111.linspace(float(min_pea), float(max_pea), 3)\n",
    "plt111.yticks(yticks)\n",
    "plt111.plot(res, color='g')\n",
    "plt111.show()"
   ]
  },
  {
   "cell_type": "markdown",
   "metadata": {},
   "source": [
    "### proba linearne regresije"
   ]
  },
  {
   "cell_type": "markdown",
   "metadata": {},
   "source": [
    "################### linear regression"
   ]
  },
  {
   "cell_type": "code",
   "execution_count": null,
   "metadata": {},
   "outputs": [],
   "source": [
    "import matplotlib.pyplot as plt300\n",
    "from scipy.stats import linregress\n",
    "# Convert the data into arrays"
   ]
  },
  {
   "cell_type": "code",
   "execution_count": null,
   "metadata": {},
   "outputs": [],
   "source": [
    "xs = [obj.PEa for obj in MylistOfSB]\n",
    "resX = [float(ele) for ele in xs]"
   ]
  },
  {
   "cell_type": "code",
   "execution_count": null,
   "metadata": {},
   "outputs": [],
   "source": [
    "ys = [obj.PEe for obj in MylistOfSB]\n",
    "resY = [float(ele) for ele in ys]"
   ]
  },
  {
   "cell_type": "markdown",
   "metadata": {},
   "source": [
    "Perform linear regression"
   ]
  },
  {
   "cell_type": "code",
   "execution_count": null,
   "metadata": {},
   "outputs": [],
   "source": [
    "slope, intercept, r_value, p_value, std_err = linregress(resX, resY)"
   ]
  },
  {
   "cell_type": "markdown",
   "metadata": {},
   "source": [
    "Calculate the regression line values"
   ]
  },
  {
   "cell_type": "code",
   "execution_count": null,
   "metadata": {},
   "outputs": [],
   "source": [
    "regression_line = [slope * xi + intercept for xi in resX]"
   ]
  },
  {
   "cell_type": "markdown",
   "metadata": {},
   "source": [
    "Plot the data points"
   ]
  },
  {
   "cell_type": "code",
   "execution_count": null,
   "metadata": {},
   "outputs": [],
   "source": [
    "plt300.scatter(resX, resY, color='blue', label='Data points')"
   ]
  },
  {
   "cell_type": "markdown",
   "metadata": {},
   "source": [
    "Plot the regression line"
   ]
  },
  {
   "cell_type": "code",
   "execution_count": null,
   "metadata": {},
   "outputs": [],
   "source": [
    "plt300.plot(resX, regression_line, color='red', label=f'Regression line: y = {slope:.2f}x + {intercept:.2f}')"
   ]
  },
  {
   "cell_type": "markdown",
   "metadata": {},
   "source": [
    "Add labels and title"
   ]
  },
  {
   "cell_type": "code",
   "execution_count": null,
   "metadata": {},
   "outputs": [],
   "source": [
    "plt300.xlabel(\"X\")\n",
    "plt300.ylabel(\"Y\")\n",
    "plt300.title(\"Linear Regression of PEa and PEe\")\n",
    "plt300.legend()"
   ]
  },
  {
   "cell_type": "markdown",
   "metadata": {},
   "source": [
    "Show the plot"
   ]
  },
  {
   "cell_type": "code",
   "execution_count": null,
   "metadata": {},
   "outputs": [],
   "source": [
    "plt300.grid(True)\n",
    "plt300.show()"
   ]
  },
  {
   "cell_type": "markdown",
   "metadata": {},
   "source": [
    "# py to ipynb  :   p2j 005MinorPlanetsPlot11Putanjskih elemenataIproradila linearna regresija ver10.py"
   ]
  }
 ],
 "metadata": {
  "kernelspec": {
   "display_name": "Python 3 (ipykernel)",
   "language": "python",
   "name": "python3"
  },
  "language_info": {
   "codemirror_mode": {
    "name": "ipython",
    "version": 3
   },
   "file_extension": ".py",
   "mimetype": "text/x-python",
   "name": "python",
   "nbconvert_exporter": "python",
   "pygments_lexer": "ipython3",
   "version": "3.12.4"
  }
 },
 "nbformat": 4,
 "nbformat_minor": 4
}
