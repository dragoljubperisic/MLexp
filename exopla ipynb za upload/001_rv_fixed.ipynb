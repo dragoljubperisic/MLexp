{
 "cells": [
  {
   "cell_type": "code",
   "execution_count": null,
   "id": "bfc22a78",
   "metadata": {},
   "outputs": [],
   "source": [
    "\n",
    "import exoplanet\n",
    "exoplanet.utils.docs_setup()\n",
    "print(f\"exoplanet.__version__ = '{exoplanet.__version__}'\")\n"
   ]
  },
  {
   "cell_type": "code",
   "execution_count": null,
   "id": "e2c29705",
   "metadata": {},
   "outputs": [],
   "source": [
    "\n",
    "import numpy as np\n",
    "import pandas as pd\n",
    "import matplotlib.pyplot as plt\n",
    "\n",
    "url = \"https://raw.githubusercontent.com/California-Planet-Search/radvel/master/example_data/epic203771098.csv\"\n",
    "data = pd.read_csv(url, index_col=0)\n",
    "\n",
    "x = np.array(data.t)\n",
    "y = np.array(data.vel)\n",
    "yerr = np.array(data.errvel)\n",
    "\n",
    "# Reference time and time grid\n",
    "x_ref = 0.5 * (x.min() + x.max())\n",
    "t = np.linspace(x.min() - 5, x.max() + 5, 1000)\n",
    "\n",
    "# Plot data\n",
    "plt.errorbar(x, y, yerr=yerr, fmt=\".k\")\n",
    "plt.xlabel(\"time [days]\")\n",
    "plt.ylabel(\"radial velocity [m/s]\")\n",
    "plt.title(\"Observed Radial Velocities\")\n",
    "plt.grid(True)\n",
    "plt.show()\n"
   ]
  },
  {
   "cell_type": "code",
   "execution_count": null,
   "id": "63408d61",
   "metadata": {},
   "outputs": [],
   "source": [
    "\n",
    "import exoplanet as xo\n",
    "\n",
    "# Rough guess for period and t0 for demonstration purposes\n",
    "periods = [20.8851, 42.3633]\n",
    "period_errs = [0.0003, 0.0006]\n",
    "t0s = [2072.7948, 2082.6251]\n",
    "t0_errs = [0.0007, 0.0004]\n",
    "\n",
    "Ks = xo.estimate_semi_amplitude(periods, x, y, yerr, t0s=t0s)\n",
    "print(\"Estimated semi-amplitudes:\", Ks, \"m/s\")\n"
   ]
  },
  {
   "cell_type": "code",
   "execution_count": null,
   "id": "3e092221",
   "metadata": {},
   "outputs": [],
   "source": [
    "\n",
    "import pymc3 as pm\n",
    "import arviz as az\n",
    "\n",
    "with pm.Model() as model:\n",
    "    # Priors\n",
    "    period = pm.Normal(\"period\", mu=20.8851, sigma=0.001)\n",
    "    t0 = pm.Normal(\"t0\", mu=2072.7948, sigma=0.001)\n",
    "    K = pm.Uniform(\"K\", lower=0.0, upper=100.0)\n",
    "    mu = pm.Normal(\"mu\", mu=0.0, sigma=10.0)\n",
    "\n",
    "    # Orbit model\n",
    "    orbit = xo.orbits.KeplerianOrbit(period=period, t0=t0)\n",
    "\n",
    "    # Radial velocity model\n",
    "    rv_model = orbit.get_radial_velocity(x, K=K) + mu\n",
    "\n",
    "    # Likelihood\n",
    "    err = pm.HalfNormal(\"err\", sigma=10)\n",
    "    pm.Normal(\"obs\", mu=rv_model, sigma=np.sqrt(yerr**2 + err**2), observed=y)\n",
    "\n",
    "    # Sample\n",
    "    trace = pm.sample(1000, tune=1000, cores=1, return_inferencedata=True)\n"
   ]
  },
  {
   "cell_type": "code",
   "execution_count": null,
   "id": "98e62686",
   "metadata": {},
   "outputs": [],
   "source": [
    "\n",
    "# Trace summary\n",
    "az.plot_trace(trace)\n",
    "plt.show()\n",
    "\n",
    "# RV plot\n",
    "period_m = trace.posterior[\"period\"].mean().values\n",
    "t0_m = trace.posterior[\"t0\"].mean().values\n",
    "K_m = trace.posterior[\"K\"].mean().values\n",
    "mu_m = trace.posterior[\"mu\"].mean().values\n",
    "\n",
    "orbit_m = xo.orbits.KeplerianOrbit(period=period_m, t0=t0_m)\n",
    "rv_fit = orbit_m.get_radial_velocity(t, K=K_m) + mu_m\n",
    "\n",
    "plt.errorbar(x, y, yerr=yerr, fmt=\".k\", label=\"data\")\n",
    "plt.plot(t, rv_fit, label=\"fit\")\n",
    "plt.xlabel(\"time [days]\")\n",
    "plt.ylabel(\"radial velocity [m/s]\")\n",
    "plt.legend()\n",
    "plt.title(\"Radial Velocity Fit\")\n",
    "plt.grid(True)\n",
    "plt.show()\n"
   ]
  }
 ],
 "metadata": {
  "kernelspec": {
   "display_name": "Python (exoplanet-env)",
   "language": "python",
   "name": "exoplanet-env"
  },
  "language_info": {
   "name": ""
  }
 },
 "nbformat": 4,
 "nbformat_minor": 5
}
