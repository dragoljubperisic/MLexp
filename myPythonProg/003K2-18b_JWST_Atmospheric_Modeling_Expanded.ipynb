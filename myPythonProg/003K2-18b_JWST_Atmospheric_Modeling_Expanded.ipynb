{
 "cells": [
  {
   "cell_type": "markdown",
   "id": "cd4efce9",
   "metadata": {},
   "source": [
    "# K2-18b Atmospheric Modeling with petitRADTRANS – Extended Molecule Set\n",
    "This notebook expands the model to include more molecular species relevant to JWST observations of K2-18b."
   ]
  },
  {
   "cell_type": "code",
   "execution_count": 1,
   "id": "619f3715",
   "metadata": {},
   "outputs": [],
   "source": [
    "# Install required packages if not present (run only once)\n",
    "# !pip install petitRADTRANS numpy matplotlib"
   ]
  },
  {
   "cell_type": "code",
   "execution_count": 2,
   "id": "95fcd015",
   "metadata": {},
   "outputs": [
    {
     "ename": "ModuleNotFoundError",
     "evalue": "No module named 'petitRADTRANS'",
     "output_type": "error",
     "traceback": [
      "\u001b[31m---------------------------------------------------------------------------\u001b[39m",
      "\u001b[31mModuleNotFoundError\u001b[39m                       Traceback (most recent call last)",
      "\u001b[36mCell\u001b[39m\u001b[36m \u001b[39m\u001b[32mIn[2]\u001b[39m\u001b[32m, line 1\u001b[39m\n\u001b[32m----> \u001b[39m\u001b[32m1\u001b[39m \u001b[38;5;28;01mfrom\u001b[39;00m\u001b[38;5;250m \u001b[39m\u001b[34;01mpetitRADTRANS\u001b[39;00m\u001b[38;5;250m \u001b[39m\u001b[38;5;28;01mimport\u001b[39;00m Radtrans\n\u001b[32m      2\u001b[39m \u001b[38;5;28;01mfrom\u001b[39;00m\u001b[38;5;250m \u001b[39m\u001b[34;01mpetitRADTRANS\u001b[39;00m\u001b[38;5;250m \u001b[39m\u001b[38;5;28;01mimport\u001b[39;00m nat_cst \u001b[38;5;28;01mas\u001b[39;00m nc\n\u001b[32m      3\u001b[39m \u001b[38;5;28;01mimport\u001b[39;00m\u001b[38;5;250m \u001b[39m\u001b[34;01mnumpy\u001b[39;00m\u001b[38;5;250m \u001b[39m\u001b[38;5;28;01mas\u001b[39;00m\u001b[38;5;250m \u001b[39m\u001b[34;01mnp\u001b[39;00m\n",
      "\u001b[31mModuleNotFoundError\u001b[39m: No module named 'petitRADTRANS'"
     ]
    }
   ],
   "source": [
    "from petitRADTRANS import Radtrans\n",
    "from petitRADTRANS import nat_cst as nc\n",
    "import numpy as np\n",
    "import matplotlib.pyplot as plt"
   ]
  },
  {
   "cell_type": "code",
   "execution_count": null,
   "id": "c4bdb047",
   "metadata": {},
   "outputs": [],
   "source": [
    "# Define an extended molecular model for transmission\n",
    "line_species = ['H2O', 'CH4', 'CO', 'CO2', 'NH3']\n",
    "rayleigh_species = ['H2', 'He']\n",
    "continuum_opacities = ['H2-H2', 'H2-He']\n",
    "\n",
    "atmosphere = Radtrans(\n",
    "    line_species=line_species,\n",
    "    rayleigh_species=rayleigh_species,\n",
    "    continuum_opacities=continuum_opacities,\n",
    "    wlen_bords_micron=[1.0, 20.0],\n",
    "    mode='lbl'\n",
    ")\n",
    "\n",
    "# Pressure grid\n",
    "pressures = np.logspace(-6, 2, 100)  # bar\n",
    "atmosphere.setup_opa_structure(pressures)\n",
    "\n",
    "# Temperature profile\n",
    "temperature = 300. * np.ones_like(pressures)\n",
    "\n",
    "# Molecular abundances (volume mixing ratios)\n",
    "abundances = {\n",
    "    'H2': 0.74 * np.ones_like(pressures),\n",
    "    'He': 0.25 * np.ones_like(pressures),\n",
    "    'H2O': 1e-4 * np.ones_like(pressures),\n",
    "    'CH4': 1e-5 * np.ones_like(pressures),\n",
    "    'CO': 1e-5 * np.ones_like(pressures),\n",
    "    'CO2': 1e-6 * np.ones_like(pressures),\n",
    "    'NH3': 1e-6 * np.ones_like(pressures),\n",
    "}\n",
    "\n",
    "# Mean molecular weight (approximate)\n",
    "MMW = 2.33 * np.ones_like(pressures)\n",
    "\n",
    "# Compute transmission spectrum\n",
    "atmosphere.calc_transm(temperature, abundances, MMW)\n",
    "\n",
    "# Plot result\n",
    "plt.figure(figsize=(10, 5))\n",
    "plt.plot(atmosphere.freq / 1e4, atmosphere.transm_rad, label='Model spectrum')\n",
    "plt.xlabel('Wavelength [micron]')\n",
    "plt.ylabel('Transit radius [R_pl/R_star]')\n",
    "plt.title('Transmission Spectrum of K2-18b (Extended Chemistry)')\n",
    "plt.grid(True)\n",
    "plt.legend()\n",
    "plt.show()"
   ]
  }
 ],
 "metadata": {
  "kernelspec": {
   "display_name": "Python 3 (ipykernel)",
   "language": "python",
   "name": "python3"
  },
  "language_info": {
   "codemirror_mode": {
    "name": "ipython",
    "version": 3
   },
   "file_extension": ".py",
   "mimetype": "text/x-python",
   "name": "python",
   "nbconvert_exporter": "python",
   "pygments_lexer": "ipython3",
   "version": "3.11.13"
  }
 },
 "nbformat": 4,
 "nbformat_minor": 5
}
